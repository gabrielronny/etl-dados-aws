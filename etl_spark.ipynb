{
 "cells": [
  {
   "cell_type": "code",
   "execution_count": null,
   "id": "cccee147",
   "metadata": {
    "pycharm": {
     "is_executing": true
    }
   },
   "outputs": [],
   "source": [
    "#iniciar spark\n",
    "from pyspark import SparkConf\n",
    "from pyspark.sql import SparkSession\n",
    "from pyspark.sql import SQLContext\n",
    "import warnings\n",
    "from datetime import datetime\n",
    "import boto3\n",
    "from typing import Sequence, Mapping, Any\n",
    "import pyspark.sql.functions as f\n",
    "import os\n",
    "\n",
    "warnings.filterwarnings('ignore')\n",
    "from pyspark.sql.functions import udf\n",
    "\n",
    "# Realizando o tratamento do tipo de colunas\n",
    "from pyspark.sql.functions import col\n",
    "from pyspark.sql.types import IntegerType\n",
    "from pyspark.sql.types import StringType\n",
    "from pyspark.sql.types import DoubleType"
   ]
  },
  {
   "cell_type": "code",
   "execution_count": 2,
   "id": "bc6c8ede",
   "metadata": {},
   "outputs": [],
   "source": [
    "BUCKETS: Sequence[Mapping[str, Any]] = [\n",
    "    {\n",
    "        's3_bruto'   : 's3a://stack-pesquisa-inovacao-sptech-bucket-bruto'\n",
    "    },\n",
    "    {\n",
    "        's3_tratado' : 's3a://stack-pesquisa-inovacao-sptech-bucket-tratados'\n",
    "    },\n",
    "    {\n",
    "        's3_cliente' : 's3a://stack-pesquisa-inovacao-sptech-bucket-cliente'\n",
    "    }\n",
    "]\n",
    "    \n",
    "AMBIENTE: Sequence[Mapping[str, Any]] = [\n",
    "    {\n",
    "        'prod-url': 'jdbc:sqlserver://sql-pesquisa-invacao-grupo02-prod.database.windows.net:1433;database=sqldb-pesquisa-inovacao-grupo02-prod',\n",
    "        'user'    : 'admin-prod',\n",
    "        'pass'    : 'Senha@secreta',\n",
    "        \n",
    "    },\n",
    "    {\n",
    "        'dev-url': 'jdbc:sqlserver://sql-pesquisa-inovacao-grupo02-dev.database.windows.net:1433;database=sqldb-pesquisa-inovacao-grupo02-dev',\n",
    "        'user'    : 'admin-dev',\n",
    "        'pass'    : 'Senha@ultrasecreta'\n",
    "    }\n",
    "]"
   ]
  },
  {
   "cell_type": "code",
   "execution_count": 3,
   "id": "0aa5eb0e",
   "metadata": {},
   "outputs": [
    {
     "name": "stdout",
     "output_type": "stream",
     "text": [
      ":: loading settings :: url = jar:file:/usr/local/lib/python3.7/site-packages/pyspark/jars/ivy-2.5.0.jar!/org/apache/ivy/core/settings/ivysettings.xml\n"
     ]
    },
    {
     "name": "stderr",
     "output_type": "stream",
     "text": [
      "Ivy Default Cache set to: /root/.ivy2/cache\n",
      "The jars for the packages stored in: /root/.ivy2/jars\n",
      "org.apache.hadoop#hadoop-aws added as a dependency\n",
      "com.microsoft.azure#spark-mssql-connector_2.12 added as a dependency\n",
      ":: resolving dependencies :: org.apache.spark#spark-submit-parent-bd3e1886-d04d-41d7-83e9-f4676c12200e;1.0\n",
      "\tconfs: [default]\n",
      "\tfound org.apache.hadoop#hadoop-aws;3.2.2 in central\n",
      "\tfound com.amazonaws#aws-java-sdk-bundle;1.11.563 in central\n",
      "\tfound com.microsoft.azure#spark-mssql-connector_2.12;1.2.0 in central\n",
      "\tfound com.microsoft.sqlserver#mssql-jdbc;8.4.1.jre8 in central\n",
      ":: resolution report :: resolve 489ms :: artifacts dl 32ms\n",
      "\t:: modules in use:\n",
      "\tcom.amazonaws#aws-java-sdk-bundle;1.11.563 from central in [default]\n",
      "\tcom.microsoft.azure#spark-mssql-connector_2.12;1.2.0 from central in [default]\n",
      "\tcom.microsoft.sqlserver#mssql-jdbc;8.4.1.jre8 from central in [default]\n",
      "\torg.apache.hadoop#hadoop-aws;3.2.2 from central in [default]\n",
      "\t---------------------------------------------------------------------\n",
      "\t|                  |            modules            ||   artifacts   |\n",
      "\t|       conf       | number| search|dwnlded|evicted|| number|dwnlded|\n",
      "\t---------------------------------------------------------------------\n",
      "\t|      default     |   4   |   0   |   0   |   0   ||   4   |   0   |\n",
      "\t---------------------------------------------------------------------\n",
      ":: retrieving :: org.apache.spark#spark-submit-parent-bd3e1886-d04d-41d7-83e9-f4676c12200e\n",
      "\tconfs: [default]\n",
      "\t0 artifacts copied, 4 already retrieved (0kB/34ms)\n"
     ]
    },
    {
     "name": "stdout",
     "output_type": "stream",
     "text": [
      "22/10/18 21:39:34 WARN NativeCodeLoader: Unable to load native-hadoop library for your platform... using builtin-java classes where applicable\n"
     ]
    },
    {
     "name": "stderr",
     "output_type": "stream",
     "text": [
      "Setting default log level to \"WARN\".\n",
      "To adjust logging level use sc.setLogLevel(newLevel). For SparkR, use setLogLevel(newLevel).\n"
     ]
    }
   ],
   "source": [
    "conf = SparkConf()\n",
    "#conf.set('spark.jars.packages', 'org.apache.hadoop:hadoop-aws:3.2.2')\n",
    "conf.set('spark.jars.packages', 'org.apache.hadoop:hadoop-aws:3.2.2,com.microsoft.azure:spark-mssql-connector_2.12:1.2.0')\n",
    "conf.set('spark.hadoop.fs.s3a.aws.credentials.provider', 'com.amazonaws.auth.InstanceProfileCredentialsProvider')\n",
    "spark = SparkSession.builder.config(conf=conf).getOrCreate()"
   ]
  },
  {
   "cell_type": "code",
   "execution_count": 4,
   "id": "65b46096",
   "metadata": {
    "scrolled": true
   },
   "outputs": [
    {
     "name": "stdout",
     "output_type": "stream",
     "text": [
      "22/10/18 21:39:40 WARN MetricsConfig: Cannot locate configuration: tried hadoop-metrics2-s3a-file-system.properties,hadoop-metrics2.properties\n"
     ]
    },
    {
     "name": "stderr",
     "output_type": "stream",
     "text": [
      "                                                                                \r"
     ]
    }
   ],
   "source": [
    "# Lendo o CSV e tratando o tipo de encoding para a ISO-8859-1\n",
    "df_inscricao_fies_20211_bruto = spark.read \\\n",
    "    .option('encoding', 'ISO-8859-1') \\\n",
    "    .option('delimiter', ';') \\\n",
    "    .option('header', 'true') \\\n",
    "    .csv(f'{BUCKETS[0].get(\"s3_bruto\")}/fies/relatorio_inscricao_dados_abertos_fies_12021.csv')"
   ]
  },
  {
   "cell_type": "code",
   "execution_count": 5,
   "id": "89b3c207",
   "metadata": {},
   "outputs": [],
   "source": [
    "df_inscricao_fies_20212_bruto = spark.read \\\n",
    "    .option('encoding', 'ISO-8859-1') \\\n",
    "    .option('delimiter', ';') \\\n",
    "    .option('header', 'true') \\\n",
    "    .csv(f'{BUCKETS[0].get(\"s3_bruto\")}/fies/relatorio_inscricao_dados_abertos_fies_22021.csv')"
   ]
  },
  {
   "cell_type": "code",
   "execution_count": 6,
   "id": "38beaf65",
   "metadata": {},
   "outputs": [],
   "source": [
    "df_inscricao_fies_2021 = df_inscricao_fies_20211_bruto.union(df_inscricao_fies_20212_bruto)"
   ]
  },
  {
   "cell_type": "code",
   "execution_count": 7,
   "id": "9c60adf2",
   "metadata": {},
   "outputs": [],
   "source": [
    "df_prouni_2020_bruto = spark.read \\\n",
    "    .option('encoding', 'ISO-8859-1') \\\n",
    "    .option('delimiter', ';') \\\n",
    "    .option('header', 'true') \\\n",
    "    .csv(f'{BUCKETS[0].get(\"s3_bruto\")}/prouni/ProuniRelatorioDadosAbertos2020.csv')"
   ]
  },
  {
   "cell_type": "code",
   "execution_count": 8,
   "id": "ab23cc72",
   "metadata": {},
   "outputs": [],
   "source": [
    "df_inmet_bruto = spark.read \\\n",
    "    .option('encoding', 'ISO-8859-1') \\\n",
    "    .option('delimiter', ';') \\\n",
    "    .option('header', 'true') \\\n",
    "    .csv(f'{BUCKETS[0].get(\"s3_bruto\")}/inmet/INMET_SE_SP_A771_SAO PAULO - INTERLAGOS_01-01-2021_A_31-12-2021.csv')"
   ]
  },
  {
   "cell_type": "code",
   "execution_count": 9,
   "id": "44e10fd9",
   "metadata": {},
   "outputs": [],
   "source": [
    "df_enem_itens_prova_bruto = spark.read \\\n",
    "    .option('delimiter', ';') \\\n",
    "    .option('header', 'true') \\\n",
    "    .csv(f'{BUCKETS[0].get(\"s3_bruto\")}/enem/ITENS_PROVA_2021.csv')"
   ]
  },
  {
   "cell_type": "code",
   "execution_count": 10,
   "id": "6ef9d380",
   "metadata": {},
   "outputs": [],
   "source": [
    "df_enem_microdados_bruto = spark.read \\\n",
    "    .option('delimiter', ';') \\\n",
    "    .option('header', 'true') \\\n",
    "    .csv(f'{BUCKETS[0].get(\"s3_bruto\")}/enem/MICRODADOS_ENEM_2021.csv')"
   ]
  },
  {
   "cell_type": "markdown",
   "id": "f1e3cbad",
   "metadata": {},
   "source": [
    "### Tratando os dados"
   ]
  },
  {
   "cell_type": "code",
   "execution_count": 11,
   "id": "51f478df",
   "metadata": {},
   "outputs": [],
   "source": [
    "df_inscricao_fies_2021_tratado = df_inscricao_fies_2021.select(\n",
    "    col('Ano do processo seletivo').cast(StringType()).alias('ANO_PROCESSO_SELETIVO'),\n",
    "    col('Semestre do processo seletivo').cast(StringType()).alias('SEMESTRE_PROCESSO_SELETIVO'),\n",
    "    col('ID do estudante').cast(StringType()).alias('ID_DO_ESTUDANTE'), # CRIPTOGRAFAR\n",
    "    col('Sexo').cast(IntegerType()).alias('SEXO'),\n",
    "    col('Data de Nascimento').cast(StringType()).alias('DATA_NASCIMENTO'),\n",
    "    col('UF de residência').cast(StringType()).alias('UF_RESIDENCIA'),\n",
    "    col('Municipio de residência').cast(StringType()).alias('MUNICIPIO_RESIDENCIA'),\n",
    "    col('Etnia/Cor').cast(StringType()).alias('ETNIA_COR'),\n",
    "    col('Pessoa com deficiência?').cast(StringType()).alias('PESSOAL_COM_DEFICIENCIA'),\n",
    "    col('Tipo de escola no ensino médio').cast(StringType()).alias('TIPO_ESCOLA_ENSINO_MEDIO'),\n",
    "    col('Ano conclusão ensino médio').cast(StringType()).alias('ANO_CONCLUSAO_ENSINO_MEDIO'),\n",
    "    col('Concluiu curso superior?').cast(StringType()).alias('IS_ONCLUIU_CURSO_SUPERIOR'),\n",
    "    col('Professor rede pública ensino?').cast(StringType()).alias('IS_PROFESSOR_REDE_PUBLICA_ENSINO'),\n",
    "    col('Nº de membros Grupo Familiar').cast(IntegerType()).alias('QTDE_MEMBROS_GRUPO_FAMILIAR'),\n",
    "    col('Renda familiar mensal bruta').cast(DoubleType()).alias('RENDA_FAMILIAR_MENSAL_BRUTA'),\n",
    "    col('Renda mensal bruta per capita').cast(DoubleType()).alias('RENDA_MENSAL_BRUTA_PER_CAPITA'),\n",
    "    col('Região grupo de preferência').cast(StringType()).alias('REGIAO_GRUPO_DE_PREFERENCIA'),\n",
    "    col('UF').cast(StringType()).alias('UF'),\n",
    "    col('`Cod.Microrregião`').cast(IntegerType()).alias('COD_MICROREGIAO'),\n",
    "    col('Microrregião').cast(StringType()).alias('MICROREGIAO'),\n",
    "    col('Conceito de curso do GP').cast(StringType()).alias('CONCEITO_CURSO_DO_GP'),\n",
    "    col('Área do conhecimento').cast(StringType()).alias('AREA_CONHECIMENTO'),\n",
    "    col('Subárea do conhecimento').cast(StringType()).alias('SUBAREA_CONHECIMENTO'),\n",
    "    col('`Cod. do Grupo de preferência`').cast(IntegerType()).alias('COD_GRUPO_PREFERENCIA'),\n",
    "    col('Nota Corte Grupo Preferência').cast(DoubleType()).alias('NOTA_CORTE_GRUPO_PREFERENCIA'),\n",
    "    col('Opções de cursos da inscrição').cast(IntegerType()).alias('OPCOES_CURSOS_DA_INSCRICAO'),\n",
    "    col('Nome mantenedora').cast(StringType()).alias('NOME_MANTENEDORA'),\n",
    "    col('Natureza Jurídica Mantenedora').cast(StringType()).alias('NATUREZA_JURIDICA_MANTENEDORA'),\n",
    "    col('CNPJ da mantenedora').cast(StringType()).alias('CNPJ_MANTENEDORA'),\n",
    "    col('Código e-MEC da Mantenedora').cast(StringType()).alias('COD_EMEC_MANTENEDORA'),\n",
    "    col('Nome da IES').cast(StringType()).alias('NOME_DA_IES'),\n",
    "    col('Código e-MEC da IES').cast(StringType()).alias('COD_EMEC_DA_IES'),\n",
    "    col('Organização Acadêmica da IES').cast(StringType()).alias('ORGANIZACAO_ACADEMICA_DA_IES'),\n",
    "    col('Município da IES').cast(StringType()).alias('MUNICIPIO_DA_IES'),\n",
    "    col('UF da IES').cast(StringType()).alias('UF_DA_IES'),\n",
    "    col('Nome do Local de oferta').cast(StringType()).alias('NOME_DO_LOCAL_DE_OFERTA'),\n",
    "    col('Munícipio do Local de Oferta').cast(StringType()).alias('MUNICIPIO_DO_LOCAL_DE_OFERTA'),\n",
    "    col('UF do Local de Oferta').cast(StringType()).alias('UF_DO_LOCAL_DE_OFERTA'),\n",
    "    col('Código do curso').cast(StringType()).alias('COD_CURSO'),\n",
    "    col('Nome do curso').cast(StringType()).alias('NOME_CURSO'),\n",
    "    col('Turno').cast(StringType()).alias('TURNO_CURSO'),\n",
    "    col('Grau').cast(StringType()).alias('GRAU_CURSO'),\n",
    "    col('Conceito').cast(IntegerType()).alias('COD_CONCEITO'),\n",
    "    col('Média nota Enem').cast(DoubleType()).alias('MEDIA_NOTA_ENEM'),\n",
    "    col('Ano do Enem').cast(StringType()).alias('ANO_DO_ENEM'),\n",
    "    col('Redação').cast(IntegerType()).alias('NOTA_REDACAO'),\n",
    "    col('Matemática e suas Tecnologias').cast(DoubleType()).alias('NOTA_MATEMATICA_E_SUAS_TECNOLOGIAS'),\n",
    "    col('Linguagens, Códigos e suas Tec').cast(DoubleType()).alias('NOTA_LINGUAGENS_E_CODICOS_E_SUAS_TECNOLOGIAS'),\n",
    "    col('Ciências Natureza e suas Tec').cast(DoubleType()).alias('NOTA_CIENCIA_NATUREZA_E_SUAS_TECNOLOGIAS'),\n",
    "    col('Ciências Humanas e suas Tec').cast(DoubleType()).alias('NOTA_CIENCIA_HUMANAS_E_SUAS_TECNOLOGIAS'),\n",
    "    col('Situação Inscrição Fies').cast(StringType()).alias('SITUACAO_INSCRICAO_FIES'),\n",
    "    col('Percentual de financiamento').cast(StringType()).alias('PERCENTUAL_DE_FINANCIAMENTO'),\n",
    "    col('Semestre do financiamento').cast(StringType()).alias('SEMESTRE_DO_FINANCIAMENTO'),\n",
    "    col('Qtde semestre financiado').cast(IntegerType()).alias('QTDE_SEMESTRE_FINANCIADO'),\n",
    ")"
   ]
  },
  {
   "cell_type": "code",
   "execution_count": 12,
   "id": "b9a94943",
   "metadata": {},
   "outputs": [],
   "source": [
    "df_prouni_2020_tratado = df_prouni_2020_bruto.select(\n",
    "    col('ANO_CONCESSAO_BOLSA').cast(IntegerType()),\n",
    "    col('CODIGO_EMEC_IES_BOLSA').cast(IntegerType()),\n",
    "    col('NOME_IES_BOLSA').cast(StringType()),\n",
    "    col('TIPO_BOLSA').cast(StringType()),\n",
    "    col('MODALIDADE_ENSINO_BOLSA').cast(StringType()),\n",
    "    col('NOME_CURSO_BOLSA').cast(StringType()),\n",
    "    col('NOME_TURNO_CURSO_BOLSA').cast(StringType()),\n",
    "    col('CPF_BENEFICIARIO').cast(StringType()), # criptografar\n",
    "    col('SEXO_BENEFICIARIO').cast(StringType()),\n",
    "    col('RACA_BENEFICIARIO').cast(StringType()),\n",
    "    col('DATA_NASCIMENTO').cast(StringType()),\n",
    "    col('BENEFICIARIO_DEFICIENTE_FISICO').cast(StringType()).alias('IS_BENEFICIARIO_DEFICIENTE_FISICO'),\n",
    "    col('REGIAO_BENEFICIARIO').cast(StringType()),\n",
    "    col('UF_BENEFICIARIO').cast(StringType()),\n",
    "    col('MUNICIPIO_BENEFICIARIO').cast(StringType()),\n",
    ")"
   ]
  },
  {
   "cell_type": "code",
   "execution_count": 13,
   "id": "b4b51862",
   "metadata": {},
   "outputs": [],
   "source": [
    "df_inmet_tratado = df_inmet_bruto.select(\n",
    "    col('`Data`').cast(StringType()).alias('DATA'),\n",
    "    col('`Hora UTC`').cast(StringType()).alias('HORA_UTC'),\n",
    "    col('`PRECIPITAÇÃO TOTAL, HORÁRIO (mm)`').cast(DoubleType()).alias('PRECIPTACAO_TOTAL'),\n",
    "    col('`PRESSAO ATMOSFERICA AO NIVEL DA ESTACAO, HORARIA (mB)`').cast(DoubleType()).alias('PRESSAO_ATMOSFERICA_NIVEL_ESTACAO'),\n",
    "    col('`PRESSÃO ATMOSFERICA MAX.NA HORA ANT. (AUT) (mB)`').cast(DoubleType()).alias('PRESSAO_ATMOSFERICA_MAX'),\n",
    "    col('`PRESSÃO ATMOSFERICA MIN. NA HORA ANT. (AUT) (mB)`').cast(DoubleType()).alias('PRESSAO_ATMOSFERICA_MIN'),\n",
    "    col('`RADIACAO GLOBAL (Kj/m²)`').cast(DoubleType()).alias('RADIACAO_GLOBAL'),\n",
    "    col('`TEMPERATURA DO PONTO DE ORVALHO (°C)`').cast(DoubleType()).alias('TEMPERATURA_PONTO_ORVALHO'),\n",
    "    col('`TEMPERATURA MÁXIMA NA HORA ANT. (AUT) (°C)`').cast(DoubleType()).alias('TEMPERATURA_MAX'),\n",
    "    col('`TEMPERATURA MÍNIMA NA HORA ANT. (AUT) (°C)`').cast(DoubleType()).alias('TEMPERATURA_MIN'),\n",
    "    col('`TEMPERATURA ORVALHO MAX. NA HORA ANT. (AUT) (°C)`').cast(DoubleType()).alias('TEMPERATURA_ORVALHO_MAX'),\n",
    "    col('`UMIDADE REL. MAX. NA HORA ANT. (AUT) (%)`').cast(DoubleType()).alias('UMIDADE_RELATIVA_MAX'),\n",
    "    col('`UMIDADE REL. MIN. NA HORA ANT. (AUT) (%)`').cast(DoubleType()).alias('UMIDADE_RELATIVA_MIN'),\n",
    "    col('`UMIDADE RELATIVA DO AR, HORARIA (%)`').cast(DoubleType()).alias('UMIDADE_RELATIVA_AR'),\n",
    "    col('`VENTO, DIREÇÃO HORARIA (gr) (° (gr))`').cast(DoubleType()).alias('VENTO_DIRECAO_HORARIA'),\n",
    "    col('`VENTO, RAJADA MAXIMA (m/s)`').cast(DoubleType()).alias('VENTO_REJADA_MAXIMA'),\n",
    "    col('`VENTO, VELOCIDADE HORARIA (m/s)`').cast(DoubleType()).alias('VELOCIDADE_VENTO')\n",
    ")"
   ]
  },
  {
   "cell_type": "code",
   "execution_count": 14,
   "id": "76fc8035",
   "metadata": {},
   "outputs": [],
   "source": [
    "df_enem_itens_prova_tratado = df_enem_itens_prova_bruto.select(\n",
    "    col('CO_POSICAO').cast(IntegerType()),\n",
    "    col('SG_AREA').cast(StringType()),\n",
    "    col('CO_ITEM').cast(IntegerType()),\n",
    "    col('TX_GABARITO').cast(StringType()),\n",
    "    col('CO_HABILIDADE').cast(IntegerType()),\n",
    "    col('IN_ITEM_ABAN').cast(IntegerType()),\n",
    "    col('TX_MOTIVO_ABAN').cast(StringType()),\n",
    "    col('NU_PARAM_A').cast(DoubleType()),\n",
    "    col('NU_PARAM_B').cast(DoubleType()),\n",
    "    col('TX_COR').cast(StringType()),\n",
    "    col('TP_LINGUA').cast(StringType()),\n",
    "    col('IN_ITEM_ADAPTADO').cast(StringType())\n",
    ")"
   ]
  },
  {
   "cell_type": "code",
   "execution_count": 15,
   "id": "876a82da",
   "metadata": {},
   "outputs": [],
   "source": [
    "df_enem_microdados_tratado = df_enem_microdados_bruto.select(\n",
    "    col('NU_INSCRICAO').cast(StringType()).alias('NUMERO_INSCRICAO'), #CRIPTOGRAFAR\n",
    "    col('NU_ANO').cast(IntegerType()).alias('ANO'),\n",
    "    col('TP_FAIXA_ETARIA').cast(IntegerType()),\n",
    "    col('TP_SEXO').cast(StringType()),\n",
    "    col('TP_ESTADO_CIVIL').cast(IntegerType()).alias('COD_ESTADO_CIVIL'),\n",
    "    col('TP_COR_RACA').cast(IntegerType()).alias('COD_COR_RACA'),\n",
    "    col('TP_NACIONALIDADE').cast(IntegerType()).alias('COD_NACIONALIDADE'),\n",
    "    col('TP_ST_CONCLUSAO').cast(IntegerType()).alias('SEMESTRE_CONCLUSAO'),\n",
    "    col('TP_ANO_CONCLUIU').cast(IntegerType()).alias('ANO_CONCLUSAO'),\n",
    "    col('TP_ESCOLA').cast(IntegerType()).alias('TIPO_ESCOLA'),\n",
    "    col('TP_ENSINO').cast(IntegerType()).alias('TIPO_ENSINO'),\n",
    "    col('IN_TREINEIRO').cast(IntegerType()),\n",
    "    col('CO_MUNICIPIO_ESC').cast(IntegerType()).alias('COD_MUNICIPIO_ESCOLAR'),\n",
    "    col('NO_MUNICIPIO_ESC').cast(StringType()).alias('NOME_MUNICIPIO_ESCOLAR'),\n",
    "    col('CO_UF_ESC').cast(IntegerType()).alias('COD_UF_ESCOLAR'),\n",
    "    col('SG_UF_ESC').cast(StringType()).alias('SIGLA_UF_ESCOLAR'),\n",
    "    col('TP_DEPENDENCIA_ADM_ESC').cast(IntegerType()).alias('COD_TIPO_DEPENDENCIA_ADM_ESCOLAR'),\n",
    "    col('TP_LOCALIZACAO_ESC').cast(IntegerType()).alias('COD_LOCALIZACAO_ESCOLAR'),\n",
    "    col('TP_SIT_FUNC_ESC').cast(IntegerType()).alias('COD_SITUACAO_FUNCIONAMENTO_ESCOLAR'),\n",
    "    col('CO_MUNICIPIO_PROVA').cast(IntegerType()).alias('COD_MUNICIPIO_PROVA'),\n",
    "    col('CO_UF_PROVA').cast(StringType()).alias('COD_UF_PROVA'),\n",
    "    col('NO_MUNICIPIO_PROVA').cast(StringType()).alias('NOME_MUNICIPIO_PROVA'),\n",
    "    col('SG_UF_PROVA').cast(StringType()).alias('SIGLA_UF_PROVA'),\n",
    "    col('TP_PRESENCA_CN').cast(IntegerType()).alias('COD_PRESENCA_PROVA_CIENCIA_NATUREZA'),\n",
    "    col('TP_PRESENCA_CH').cast(IntegerType()).alias('COD_PRESENCA_CIENCIAS_HUMANAS'),\n",
    "    col('TP_PRESENCA_LC').cast(IntegerType()).alias('COD_PRESENCA_LINGUAGENS_CODIGOS'),\n",
    "    col('TP_PRESENCA_MT').cast(IntegerType()).alias('COD_PRESENCA_MATEMATICA'),\n",
    "    col('CO_PROVA_CN').cast(IntegerType()).alias('COD_TIPO_PROVA_CIENCIA_NATUREZA'),\n",
    "    col('CO_PROVA_CH').cast(IntegerType()).alias('COD_TIPO_PROVA_CIENCIAS_HUMANAS'),\n",
    "    col('CO_PROVA_LC').cast(IntegerType()).alias('COD_TIPO_PROVA_LINGUAGENS_CODIGO'),\n",
    "    col('CO_PROVA_MT').cast(IntegerType()).alias('COD_TIPO_PROVA_MATEMATICA'),\n",
    "    col('NU_NOTA_CN').cast(DoubleType()).alias('NOTA_PROVA_CIENCIA_NATUREZA'),\n",
    "    col('NU_NOTA_CH').cast(DoubleType()).alias('NOTA_PROVA_CIENCIAS_HUMANAS'),\n",
    "    col('NU_NOTA_LC').cast(DoubleType()).alias('NOTA_PROVA_LINGUAGENS_CODIGO'),\n",
    "    col('NU_NOTA_MT').cast(DoubleType()).alias('NOTA_PROVA_MATEMATICA'),\n",
    "    col('TX_RESPOSTAS_CN').cast(StringType()).alias('RESPOSTAS_CIENCIA_NATUREZA'),\n",
    "    \n",
    "    col('TX_RESPOSTAS_CH').cast(StringType()).alias('RESPOSTAS_CIENCIAS_HUMANAS'),\n",
    "    col('TX_RESPOSTAS_LC').cast(StringType()).alias('RESPOSTAS_LINGUAGENS_CODIGOS'),\n",
    "    col('TX_RESPOSTAS_MT').cast(StringType()).alias('RESPOSTAS_MATEMATICA'),\n",
    "    \n",
    "    col('TP_LINGUA').cast(StringType()).alias('COD_LINGUAGEM_PROVA'),\n",
    "    col('TX_GABARITO_CN').cast(StringType()).alias('GABARITO_CIENCIA_NATUREZA'),\n",
    "    col('TX_GABARITO_CH').cast(StringType()).alias('GABARITO_CIENCIAS_HUMANAS'),\n",
    "    col('TX_GABARITO_LC').cast(StringType()).alias('GABARITO_LINGUAGENS_CODIGOS'),\n",
    "    col('TX_GABARITO_MT').cast(StringType()).alias('GABARITO_MATEMATICA'),\n",
    "\n",
    "    col('TP_STATUS_REDACAO').cast(StringType()).alias('COD_STATUS_REDACAO'),\n",
    "    col('NU_NOTA_COMP1').cast(IntegerType()).alias('NOTA_COMPETENCIA_1'),\n",
    "    col('NU_NOTA_COMP2').cast(IntegerType()).alias('NOTA_COMPETENCIA_2'),\n",
    "    col('NU_NOTA_COMP3').cast(IntegerType()).alias('NOTA_COMPETENCIA_3'),\n",
    "    col('NU_NOTA_COMP4').cast(IntegerType()).alias('NOTA_COMPETENCIA_4'),\n",
    "    col('NU_NOTA_COMP5').cast(IntegerType()).alias('NOTA_COMPETENCIA_5'),\n",
    "\n",
    "    col('NU_NOTA_REDACAO').cast(IntegerType()).alias('NOTA_REDACAO'),\n",
    "    col('Q001').cast(StringType()),\n",
    "    col('Q002').cast(StringType()),\n",
    "    col('Q003').cast(StringType()),\n",
    "    col('Q004').cast(StringType()),\n",
    "    col('Q005').cast(StringType()),\n",
    "    col('Q006').cast(StringType()),\n",
    "    col('Q007').cast(StringType()),\n",
    "    col('Q008').cast(StringType()),\n",
    "    col('Q009').cast(StringType()),\n",
    "    col('Q010').cast(StringType()),\n",
    "    col('Q011').cast(StringType()),\n",
    "    col('Q012').cast(StringType()),\n",
    "    col('Q013').cast(StringType()),\n",
    "    col('Q014').cast(StringType()),\n",
    "    col('Q015').cast(StringType()),\n",
    "    col('Q016').cast(StringType()),\n",
    "    col('Q017').cast(StringType()),\n",
    "    col('Q018').cast(StringType()),\n",
    "    col('Q019').cast(StringType()),\n",
    "    col('Q020').cast(StringType()),\n",
    "    col('Q021').cast(StringType()),\n",
    "    col('Q022').cast(StringType()),\n",
    "    col('Q023').cast(StringType()),\n",
    "    col('Q024').cast(StringType()),\n",
    "    col('Q025').cast(StringType())\n",
    ")"
   ]
  },
  {
   "cell_type": "code",
   "execution_count": 16,
   "id": "ae7f5117",
   "metadata": {},
   "outputs": [],
   "source": [
    "DATE_NOW = datetime.now().strftime(\"%d_%m_%Y\")"
   ]
  },
  {
   "cell_type": "code",
   "execution_count": null,
   "id": "432147eb",
   "metadata": {},
   "outputs": [],
   "source": [
    "# Salvando o arquivo processado com os dados de inscrição no fies tratados na S3\n",
    "df_inscricao_fies_2021_tratado \\\n",
    "    .coalesce(1) \\\n",
    "    .write \\\n",
    "    .mode('append') \\\n",
    "    .option('encoding', 'UTF-8') \\\n",
    "    .csv(f'{BUCKETS[1].get(\"s3_tratado\")}/{DATE_NOW}/fies/')"
   ]
  },
  {
   "cell_type": "code",
   "execution_count": null,
   "id": "04f25bb6",
   "metadata": {},
   "outputs": [],
   "source": [
    "# Salvando o arquivo processado com os dados do prouni tratados na S3\n",
    "df_prouni_2020_tratado \\\n",
    "    .coalesce(1) \\\n",
    "    .write \\\n",
    "    .mode('append') \\\n",
    "    .option('encoding', 'ISO-8859-1') \\\n",
    "      .csv(f'{BUCKETS[1].get(\"s3_tratado\")}/{DATE_NOW}/prouni/')"
   ]
  },
  {
   "cell_type": "code",
   "execution_count": null,
   "id": "5a3ae070",
   "metadata": {},
   "outputs": [],
   "source": [
    "df_inmet_tratado \\\n",
    "    .coalesce(1) \\\n",
    "    .write \\\n",
    "    .mode('append') \\\n",
    "    .option('encoding', 'ISO-8859-1') \\\n",
    "    .csv(f'{BUCKETS[1].get(\"s3_tratado\")}/{DATE_NOW}/inmet/')"
   ]
  },
  {
   "cell_type": "code",
   "execution_count": null,
   "id": "f5b11f38",
   "metadata": {},
   "outputs": [],
   "source": [
    "df_enem_itens_prova_tratado \\\n",
    "    .coalesce(1) \\\n",
    "    .write \\\n",
    "    .mode('append') \\\n",
    "    .csv(f'{BUCKETS[1].get(\"s3_tratado\")}/{DATE_NOW}/enem/itens_prova/')"
   ]
  },
  {
   "cell_type": "code",
   "execution_count": null,
   "id": "09f1a9a5",
   "metadata": {},
   "outputs": [],
   "source": [
    "df_enem_microdados_tratado \\\n",
    "    .coalesce(1) \\\n",
    "    .write \\\n",
    "    .mode('append') \\\n",
    "    .csv(f'{BUCKETS[1].get(\"s3_tratado\")}/{DATE_NOW}/enem/microdados/')"
   ]
  },
  {
   "cell_type": "code",
   "execution_count": 18,
   "id": "370d59f2",
   "metadata": {},
   "outputs": [],
   "source": [
    "df_enem_microdados_tratados = df_enem_microdados_tratado.limit(20_000)"
   ]
  },
  {
   "cell_type": "code",
   "execution_count": 22,
   "id": "52eb8f5f",
   "metadata": {},
   "outputs": [],
   "source": [
    "df_prouni_2020_tratados = df_prouni_2020_tratado.limit(50_000)"
   ]
  },
  {
   "cell_type": "code",
   "execution_count": 62,
   "id": "b3d633b3",
   "metadata": {},
   "outputs": [],
   "source": [
    "df_inscricao_fies_2021_tratados = df_inscricao_fies_2021_tratado.limit(5_000)"
   ]
  },
  {
   "cell_type": "markdown",
   "id": "fd5fde49",
   "metadata": {},
   "source": [
    "### Criptografando dados ambiente dev"
   ]
  },
  {
   "cell_type": "code",
   "execution_count": 26,
   "id": "1ff2d066",
   "metadata": {},
   "outputs": [
    {
     "name": "stderr",
     "output_type": "stream",
     "text": [
      "                                                                                \r"
     ]
    }
   ],
   "source": [
    "# df_enem_microdados_tratado.createOrReplaceTempView('enem_microdados')\n",
    "# df_prouni_2020_tratado.createOrReplaceTempView('prouni')\n",
    "# df_inscricao_fies_2021_tratado.createOrReplaceTempView('fies')\n",
    "\n",
    "# df_enem_microdados_tratado --> NUMERO_INSCRICAO\n",
    "# df_prouni_2020_tratado --> CPF_BENEFICIARIO\n",
    "# df_inscricao_fies_2021_tratado --> ID_DO_ESTUDANTE\n",
    "\n",
    "df_enem_microdados_pd = df_enem_microdados_tratados.toPandas()\n",
    "df_prouni_2020_pd = df_prouni_2020_tratados.toPandas()\n",
    "df_inscricao_fies_2021_pd = df_inscricao_fies_2021_tratados.toPandas()"
   ]
  },
  {
   "cell_type": "code",
   "execution_count": 33,
   "id": "1216e3ef",
   "metadata": {},
   "outputs": [],
   "source": [
    "import cryptpandas as crp\n",
    "\n",
    "\n",
    "\n",
    "# df_enem_microdados_tratado --> NUMERO_INSCRICAO\n",
    "# df_prouni_2020_tratado --> CPF_BENEFICIARIO\n",
    "# df_inscricao_fies_2021_tratado --> ID_DO_ESTUDANTE\n",
    "\n",
    "\n",
    "# key = 'Senha@Secreta'\n",
    "# df_enem_microdados_pd_2 = crp.to_encrypted(df_enem_microdados_pd, password=key, path='file.crypt')\n",
    "# # df_prouni_2020_pd\n",
    "# # df_inscricao_fies_2021_pd"
   ]
  },
  {
   "cell_type": "code",
   "execution_count": 37,
   "id": "b53b3a01",
   "metadata": {},
   "outputs": [
    {
     "name": "stdout",
     "output_type": "stream",
     "text": [
      "None\n"
     ]
    }
   ],
   "source": [
    "# print(df_enem_microdados_pd_2)"
   ]
  },
  {
   "cell_type": "code",
   "execution_count": 50,
   "id": "aa7b767e",
   "metadata": {},
   "outputs": [],
   "source": [
    "# df_enem_microdados_pd.head()\n",
    "# AMBIENTE[0].get(\"user\")"
   ]
  },
  {
   "cell_type": "code",
   "execution_count": 63,
   "id": "587d06c6",
   "metadata": {},
   "outputs": [
    {
     "name": "stderr",
     "output_type": "stream",
     "text": [
      "                                                                                \r"
     ]
    }
   ],
   "source": [
    "df_inscricao_fies_2021_tratados.write.mode(\"overwrite\") \\\n",
    "    .format(\"jdbc\") \\\n",
    "    .option('url', f'{AMBIENTE[0].get(\"prod-url\")}') \\\n",
    "    .option(\"dbtable\", 'FIES') \\\n",
    "    .option(\"user\", f'{AMBIENTE[0].get(\"user\")}') \\\n",
    "    .option(\"password\", f'{AMBIENTE[0].get(\"pass\")}') \\\n",
    "    .option(\"driver\", \"com.microsoft.sqlserver.jdbc.SQLServerDriver\") \\\n",
    "    .save()"
   ]
  },
  {
   "cell_type": "code",
   "execution_count": 60,
   "id": "9a09e7e3",
   "metadata": {},
   "outputs": [
    {
     "name": "stderr",
     "output_type": "stream",
     "text": [
      "                                                                                \r"
     ]
    }
   ],
   "source": [
    "df_prouni_2020_tratados.write.mode(\"overwrite\") \\\n",
    "    .format(\"jdbc\") \\\n",
    "    .option('url', f'{AMBIENTE[0].get(\"prod-url\")}') \\\n",
    "    .option(\"dbtable\", 'PROUNI') \\\n",
    "    .option(\"user\", f'{AMBIENTE[0].get(\"user\")}') \\\n",
    "    .option(\"password\", f'{AMBIENTE[0].get(\"pass\")}') \\\n",
    "    .option(\"driver\", \"com.microsoft.sqlserver.jdbc.SQLServerDriver\") \\\n",
    "    .save() "
   ]
  },
  {
   "cell_type": "code",
   "execution_count": 57,
   "id": "c8d27640",
   "metadata": {},
   "outputs": [
    {
     "name": "stderr",
     "output_type": "stream",
     "text": [
      "[Stage 23:>                                                         (0 + 1) / 1]\r"
     ]
    }
   ],
   "source": [
    "df_inmet_tratado.write.mode(\"overwrite\") \\\n",
    "    .format(\"jdbc\") \\\n",
    "    .option('url', f'{AMBIENTE[0].get(\"prod-url\")}') \\\n",
    "    .option(\"dbtable\", 'INMET_SP') \\\n",
    "    .option(\"user\", f'{AMBIENTE[0].get(\"user\")}') \\\n",
    "    .option(\"password\", f'{AMBIENTE[0].get(\"pass\")}') \\\n",
    "    .option(\"driver\", \"com.microsoft.sqlserver.jdbc.SQLServerDriver\") \\\n",
    "    .save()"
   ]
  },
  {
   "cell_type": "code",
   "execution_count": 58,
   "id": "9aebbaf4",
   "metadata": {},
   "outputs": [
    {
     "name": "stderr",
     "output_type": "stream",
     "text": [
      "[Stage 23:>                                                         (0 + 1) / 1]\r"
     ]
    }
   ],
   "source": [
    "df_enem_itens_prova_tratado.write.mode(\"overwrite\") \\\n",
    "    .format(\"jdbc\") \\\n",
    "    .option('url', f'{AMBIENTE[0].get(\"prod-url\")}') \\\n",
    "    .option(\"dbtable\", 'ENEM_ITENS_PROVA') \\\n",
    "    .option(\"user\", f'{AMBIENTE[0].get(\"user\")}') \\\n",
    "    .option(\"password\", f'{AMBIENTE[0].get(\"pass\")}') \\\n",
    "    .option(\"driver\", \"com.microsoft.sqlserver.jdbc.SQLServerDriver\") \\\n",
    "    .save()"
   ]
  },
  {
   "cell_type": "code",
   "execution_count": 59,
   "id": "4a71d40c",
   "metadata": {},
   "outputs": [
    {
     "name": "stderr",
     "output_type": "stream",
     "text": [
      "                                                                                \r"
     ]
    }
   ],
   "source": [
    "df_enem_microdados_tratados.write.mode(\"overwrite\") \\\n",
    "    .format(\"jdbc\") \\\n",
    "    .option('url', f'{AMBIENTE[0].get(\"prod-url\")}') \\\n",
    "    .option(\"dbtable\", 'ENEM_MICRODADOS') \\\n",
    "    .option(\"user\", f'{AMBIENTE[0].get(\"user\")}') \\\n",
    "    .option(\"password\", f'{AMBIENTE[0].get(\"pass\")}') \\\n",
    "    .option(\"driver\", \"com.microsoft.sqlserver.jdbc.SQLServerDriver\") \\\n",
    "    .save()"
   ]
  },
  {
   "cell_type": "markdown",
   "id": "425009cc",
   "metadata": {},
   "source": [
    "### Dados do Twitter"
   ]
  },
  {
   "cell_type": "code",
   "execution_count": null,
   "id": "ab5239f6",
   "metadata": {},
   "outputs": [],
   "source": [
    "df_twitter = spark.read \\\n",
    "    .format('json') \\\n",
    "    .option('multiline', 'true') \\\n",
    "    .json('s3a://stack-gabriel-pereira-pi-sptech-bucket-bruto/data_twitter_07_06_2022.json')"
   ]
  },
  {
   "cell_type": "code",
   "execution_count": null,
   "id": "a66f0c1a",
   "metadata": {},
   "outputs": [],
   "source": [
    "df_twitter_tratado = df_twitter.select(\n",
    "    col(\"text\").cast(StringType()).alias('assunto_comentado')\n",
    ")"
   ]
  },
  {
   "cell_type": "code",
   "execution_count": null,
   "id": "a160dc87",
   "metadata": {},
   "outputs": [],
   "source": [
    "df_twitter_tratado \\\n",
    "    .coalesce(1) \\\n",
    "    .write \\\n",
    "    .mode('append') \\\n",
    "    .option('encoding', 'ISO-8859-1') \\\n",
    "    .csv(PATH_DESTINO+'/{}/dados_twitter_processado'.format(DATE_NOW))"
   ]
  },
  {
   "cell_type": "code",
   "execution_count": null,
   "id": "84ae4acd",
   "metadata": {},
   "outputs": [],
   "source": [
    "df_twitter_tratado.write \\\n",
    "    .format('com.microsoft.sqlserver.jdbc.spark') \\\n",
    "    .mode('overwrite') \\\n",
    "    .option('encoding', 'ISO-8859-1') \\\n",
    "    .option('driver', 'com.microsoft.sqlserver.jdbc.SQLServerDriver') \\\n",
    "    .option('url', 'jdbc:sqlserver://sql-gabriel-ronny-pi.database.windows.net;databaseName=sqldb-gabriel-ronny-pi;') \\\n",
    "    .option('dbtable', 'DADOS_TWITTER') \\\n",
    "    .option('user', 'gabri') \\\n",
    "    .option('password', 'Pip20po0') \\\n",
    "    .save()"
   ]
  },
  {
   "cell_type": "markdown",
   "id": "9dbd98bc",
   "metadata": {},
   "source": [
    "### Movendo dados para o bucket do cliente"
   ]
  },
  {
   "cell_type": "code",
   "execution_count": null,
   "id": "73d1117b",
   "metadata": {},
   "outputs": [],
   "source": [
    "s3 = boto3.resource('s3')\n",
    "\n",
    "s3_bucket_origem  = s3.Bucket('stack-gabriel-pereira-pi-sptech-bucket-tratados')\n",
    "s3_bucket_destino = s3.Bucket('stack-gabriel-pereira-pi-sptech-bucket-cliente')\n",
    "\n",
    "\n",
    "for s3_files in s3_bucket_origem.objects.all():\n",
    "    copy_source = { \n",
    "        \"Bucket\": s3_bucket_origem.name,\n",
    "        \"Key\": s3_files.key\n",
    "    }    \n",
    "    print(copy_source)\n",
    "    print(s3_files.key)\n",
    "    s3_bucket_destino.copy(copy_source, s3_files.key)"
   ]
  }
 ],
 "metadata": {
  "kernelspec": {
   "display_name": "Python 3 (ipykernel)",
   "language": "python",
   "name": "python3"
  },
  "language_info": {
   "codemirror_mode": {
    "name": "ipython",
    "version": 3
   },
   "file_extension": ".py",
   "mimetype": "text/x-python",
   "name": "python",
   "nbconvert_exporter": "python",
   "pygments_lexer": "ipython3",
   "version": "3.7.10"
  }
 },
 "nbformat": 4,
 "nbformat_minor": 5
}
